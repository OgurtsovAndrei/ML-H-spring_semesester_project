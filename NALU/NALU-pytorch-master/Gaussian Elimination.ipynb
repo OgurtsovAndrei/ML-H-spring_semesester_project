{
 "cells": [
  {
   "cell_type": "code",
   "execution_count": 1,
   "metadata": {},
   "outputs": [],
   "source": [
    "%load_ext autoreload\n",
    "%autoreload 2"
   ]
  },
  {
   "cell_type": "code",
   "execution_count": 2,
   "metadata": {},
   "outputs": [],
   "source": [
    "import math\n",
    "import random\n",
    "import numpy as np\n",
    "import matplotlib.pyplot as plt\n",
    "\n",
    "import torch\n",
    "import torch.nn as nn\n",
    "import torch.nn.functional as F\n",
    "\n",
    "from models import *"
   ]
  },
  {
   "cell_type": "code",
   "execution_count": 4,
   "metadata": {},
   "outputs": [],
   "source": [
    "def train(model, optimizer, data, target, num_iters):\n",
    "    for i in range(num_iters):\n",
    "        out = model(data)\n",
    "        loss = F.mse_loss(out, target)\n",
    "        mea = torch.mean(torch.abs(target - out))\n",
    "        optimizer.zero_grad()\n",
    "        loss.backward()\n",
    "        optimizer.step()\n",
    "        if i % 1000 == 0:\n",
    "            print(\"\\t{}/{}: loss: {:.3f} - mea: {:.3f}\".format(\n",
    "                i+1, num_iters, loss.item(), mea.item())\n",
    "            )"
   ]
  },
  {
   "cell_type": "markdown",
   "metadata": {},
   "source": [
    "## Permutation"
   ]
  },
  {
   "cell_type": "code",
   "execution_count": 5,
   "metadata": {},
   "outputs": [],
   "source": [
    "# permute the first column with the third\n",
    "\n",
    "A = torch.from_numpy(np.array([\n",
    "    [0, 1, -1],\n",
    "    [3, -1, 1],\n",
    "    [1, 1, -2],\n",
    "])).float()\n",
    "\n",
    "B = torch.from_numpy(np.array([\n",
    "    [-1, 1, -0],\n",
    "    [1, -1, 3],\n",
    "    [-2, 1, 1],\n",
    "])).float()\n",
    "\n",
    "P = torch.from_numpy(np.array([\n",
    "    [0, 0, 1],\n",
    "    [0, 1, 0],\n",
    "    [1, 0, 0],\n",
    "])).float()\n",
    "\n",
    "assert torch.allclose(torch.matmul(A, P), B)"
   ]
  },
  {
   "cell_type": "code",
   "execution_count": 6,
   "metadata": {},
   "outputs": [
    {
     "name": "stdout",
     "output_type": "stream",
     "text": [
      "\t1/10000: loss: 1.034 - mea: 0.740\n",
      "\t1001/10000: loss: 0.000 - mea: 0.014\n",
      "\t2001/10000: loss: 0.000 - mea: 0.002\n",
      "\t3001/10000: loss: 0.000 - mea: 0.000\n",
      "\t4001/10000: loss: 0.000 - mea: 0.000\n",
      "\t5001/10000: loss: 0.000 - mea: 0.000\n",
      "\t6001/10000: loss: 0.000 - mea: 0.000\n",
      "\t7001/10000: loss: 0.000 - mea: 0.000\n",
      "\t8001/10000: loss: 0.000 - mea: 0.000\n",
      "\t9001/10000: loss: 0.000 - mea: 0.000\n"
     ]
    }
   ],
   "source": [
    "net = NeuralAccumulatorCell(3, 3)\n",
    "optim = torch.optim.RMSprop(net.parameters(), lr=1e-2)\n",
    "\n",
    "train(net, optim, A, B, int(1e4))"
   ]
  },
  {
   "cell_type": "code",
   "execution_count": 7,
   "metadata": {},
   "outputs": [
    {
     "name": "stdout",
     "output_type": "stream",
     "text": [
      "actual: \n",
      "tensor([[-0.0000, -0.0000,  1.0000],\n",
      "        [-0.0001,  0.9999, -0.0000],\n",
      "        [ 1.0000, -0.0000, -0.0000]])\n",
      "\n",
      "expected: \n",
      "tensor([[0., 0., 1.],\n",
      "        [0., 1., 0.],\n",
      "        [1., 0., 0.]])\n",
      "\n"
     ]
    }
   ],
   "source": [
    "W = torch.tanh(net.W_hat) * torch.sigmoid(net.M_hat)\n",
    "\n",
    "print(\"actual: \\n{}\\n\".format(W.transpose(0, 1).data))\n",
    "print(\"expected: \\n{}\\n\".format(P))"
   ]
  },
  {
   "cell_type": "markdown",
   "metadata": {},
   "source": [
    "## Column Scaling\n",
    "\n",
    "A single NAC cell can't learn column scaling since the weight matrix is constrained to -1, 0 or 1."
   ]
  },
  {
   "cell_type": "code",
   "execution_count": 16,
   "metadata": {},
   "outputs": [],
   "source": [
    "# scale the first column by 5\n",
    "\n",
    "A = torch.from_numpy(np.array([\n",
    "    [0, 1, -1],\n",
    "    [3, -1, 1],\n",
    "    [1, 1, -2],\n",
    "])).float()\n",
    "\n",
    "B = torch.from_numpy(np.array([\n",
    "    [0, 1, -1],\n",
    "    [15, -1, 1],\n",
    "    [5, 1, -2],\n",
    "])).float()\n",
    "\n",
    "P = torch.from_numpy(np.array([\n",
    "    [5, 0, 0],\n",
    "    [0, 1, 0],\n",
    "    [0, 0, 1],\n",
    "])).float()\n",
    "\n",
    "assert torch.allclose(torch.matmul(A, P), B)"
   ]
  },
  {
   "cell_type": "code",
   "execution_count": 28,
   "metadata": {},
   "outputs": [
    {
     "name": "stdout",
     "output_type": "stream",
     "text": [
      "\t1/10000: loss: 5.623 - mea: 1.764\n",
      "\t1001/10000: loss: 1.071 - mea: 0.894\n",
      "\t2001/10000: loss: 0.101 - mea: 0.269\n",
      "\t3001/10000: loss: 0.035 - mea: 0.141\n",
      "\t4001/10000: loss: 0.007 - mea: 0.050\n",
      "\t5001/10000: loss: 0.001 - mea: 0.022\n",
      "\t6001/10000: loss: 0.000 - mea: 0.011\n",
      "\t7001/10000: loss: 0.000 - mea: 0.005\n",
      "\t8001/10000: loss: 0.000 - mea: 0.003\n",
      "\t9001/10000: loss: 0.000 - mea: 0.002\n"
     ]
    }
   ],
   "source": [
    "net = NAC(2, 3, 3, 3)\n",
    "optim = torch.optim.RMSprop(net.parameters(), lr=1e-3)\n",
    "\n",
    "train(net, optim, A, B, int(1e4))"
   ]
  },
  {
   "cell_type": "markdown",
   "metadata": {},
   "source": [
    "## Column Elimination"
   ]
  },
  {
   "cell_type": "code",
   "execution_count": 20,
   "metadata": {},
   "outputs": [],
   "source": [
    "def basis_vec(k, n):\n",
    "    \"\"\"Creates the k'th standard basis vector in R^n.\"\"\"\n",
    "    error_msg = \"[!] k cannot exceed {}.\".format(n)\n",
    "    assert (k < n), error_msg\n",
    "    b = np.zeros([n, 1])\n",
    "    b[k] = 1\n",
    "    return b"
   ]
  },
  {
   "cell_type": "code",
   "execution_count": 21,
   "metadata": {},
   "outputs": [],
   "source": [
    "# add -3x the second column to the first => P = (I - (c)(e_k)(e_l.T))\n",
    "\n",
    "A = torch.from_numpy(np.array([\n",
    "    [3, 1, -1],\n",
    "    [3, -1, 1],\n",
    "    [1, 1, -2],\n",
    "])).float()\n",
    "\n",
    "B = torch.from_numpy(np.array([\n",
    "    [0, 1, -1],\n",
    "    [6, -1, 1],\n",
    "    [-2, 1, -2],\n",
    "])).float()\n",
    "\n",
    "P = torch.from_numpy(\n",
    "    np.eye(3) + (-3)*basis_vec(1, 3).dot(basis_vec(0, 3).T)\n",
    ").float()\n",
    "\n",
    "assert torch.allclose(torch.matmul(A, P), B)"
   ]
  },
  {
   "cell_type": "code",
   "execution_count": 27,
   "metadata": {},
   "outputs": [
    {
     "name": "stdout",
     "output_type": "stream",
     "text": [
      "\t1/10000: loss: 4.037 - mea: 1.414\n",
      "\t1001/10000: loss: 0.437 - mea: 0.520\n",
      "\t2001/10000: loss: 0.084 - mea: 0.257\n",
      "\t3001/10000: loss: 0.017 - mea: 0.112\n",
      "\t4001/10000: loss: 0.001 - mea: 0.022\n",
      "\t5001/10000: loss: 0.000 - mea: 0.009\n",
      "\t6001/10000: loss: 0.000 - mea: 0.005\n",
      "\t7001/10000: loss: 0.000 - mea: 0.002\n",
      "\t8001/10000: loss: 0.000 - mea: 0.001\n",
      "\t9001/10000: loss: 0.000 - mea: 0.001\n"
     ]
    }
   ],
   "source": [
    "net = NAC(2, 3, 3, 3)\n",
    "optim = torch.optim.RMSprop(net.parameters(), lr=1e-3)\n",
    "\n",
    "train(net, optim, A, B, int(1e4))"
   ]
  }
 ],
 "metadata": {
  "kernelspec": {
   "display_name": "Python 3",
   "language": "python",
   "name": "python3"
  },
  "language_info": {
   "codemirror_mode": {
    "name": "ipython",
    "version": 3
   },
   "file_extension": ".py",
   "mimetype": "text/x-python",
   "name": "python",
   "nbconvert_exporter": "python",
   "pygments_lexer": "ipython3",
   "version": "3.6.5"
  }
 },
 "nbformat": 4,
 "nbformat_minor": 2
}
