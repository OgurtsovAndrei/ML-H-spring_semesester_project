{
 "cells": [
  {
   "cell_type": "code",
   "execution_count": 1,
   "outputs": [
    {
     "name": "stdout",
     "output_type": "stream",
     "text": [
      "Requirement already satisfied: pytorch-lightning in /home/andrey/.local/share/virtualenvs/ML-H-spring_semesester_project-nJO6SWcT/lib/python3.10/site-packages (2.0.6)\r\n",
      "Requirement already satisfied: numpy>=1.17.2 in /home/andrey/.local/share/virtualenvs/ML-H-spring_semesester_project-nJO6SWcT/lib/python3.10/site-packages (from pytorch-lightning) (1.25.2)\r\n",
      "Requirement already satisfied: torch>=1.11.0 in /home/andrey/.local/share/virtualenvs/ML-H-spring_semesester_project-nJO6SWcT/lib/python3.10/site-packages (from pytorch-lightning) (2.0.1)\r\n",
      "Requirement already satisfied: tqdm>=4.57.0 in /home/andrey/.local/share/virtualenvs/ML-H-spring_semesester_project-nJO6SWcT/lib/python3.10/site-packages (from pytorch-lightning) (4.65.0)\r\n",
      "Requirement already satisfied: PyYAML>=5.4 in /home/andrey/.local/share/virtualenvs/ML-H-spring_semesester_project-nJO6SWcT/lib/python3.10/site-packages (from pytorch-lightning) (6.0.1)\r\n",
      "Requirement already satisfied: fsspec[http]>2021.06.0 in /home/andrey/.local/share/virtualenvs/ML-H-spring_semesester_project-nJO6SWcT/lib/python3.10/site-packages (from pytorch-lightning) (2023.6.0)\r\n",
      "Requirement already satisfied: torchmetrics>=0.7.0 in /home/andrey/.local/share/virtualenvs/ML-H-spring_semesester_project-nJO6SWcT/lib/python3.10/site-packages (from pytorch-lightning) (1.0.1)\r\n",
      "Requirement already satisfied: packaging>=17.1 in /home/andrey/.local/share/virtualenvs/ML-H-spring_semesester_project-nJO6SWcT/lib/python3.10/site-packages (from pytorch-lightning) (23.1)\r\n",
      "Requirement already satisfied: typing-extensions>=4.0.0 in /home/andrey/.local/share/virtualenvs/ML-H-spring_semesester_project-nJO6SWcT/lib/python3.10/site-packages (from pytorch-lightning) (4.7.1)\r\n",
      "Requirement already satisfied: lightning-utilities>=0.7.0 in /home/andrey/.local/share/virtualenvs/ML-H-spring_semesester_project-nJO6SWcT/lib/python3.10/site-packages (from pytorch-lightning) (0.9.0)\r\n",
      "Requirement already satisfied: requests in /home/andrey/.local/share/virtualenvs/ML-H-spring_semesester_project-nJO6SWcT/lib/python3.10/site-packages (from fsspec[http]>2021.06.0->pytorch-lightning) (2.31.0)\r\n",
      "Requirement already satisfied: aiohttp!=4.0.0a0,!=4.0.0a1 in /home/andrey/.local/share/virtualenvs/ML-H-spring_semesester_project-nJO6SWcT/lib/python3.10/site-packages (from fsspec[http]>2021.06.0->pytorch-lightning) (3.8.5)\r\n",
      "Requirement already satisfied: filelock in /home/andrey/.local/share/virtualenvs/ML-H-spring_semesester_project-nJO6SWcT/lib/python3.10/site-packages (from torch>=1.11.0->pytorch-lightning) (3.12.2)\r\n",
      "Requirement already satisfied: sympy in /home/andrey/.local/share/virtualenvs/ML-H-spring_semesester_project-nJO6SWcT/lib/python3.10/site-packages (from torch>=1.11.0->pytorch-lightning) (1.12)\r\n",
      "Requirement already satisfied: networkx in /home/andrey/.local/share/virtualenvs/ML-H-spring_semesester_project-nJO6SWcT/lib/python3.10/site-packages (from torch>=1.11.0->pytorch-lightning) (3.1)\r\n",
      "Requirement already satisfied: jinja2 in /home/andrey/.local/share/virtualenvs/ML-H-spring_semesester_project-nJO6SWcT/lib/python3.10/site-packages (from torch>=1.11.0->pytorch-lightning) (3.1.2)\r\n",
      "Requirement already satisfied: nvidia-cuda-nvrtc-cu11==11.7.99 in /home/andrey/.local/share/virtualenvs/ML-H-spring_semesester_project-nJO6SWcT/lib/python3.10/site-packages (from torch>=1.11.0->pytorch-lightning) (11.7.99)\r\n",
      "Requirement already satisfied: nvidia-cuda-runtime-cu11==11.7.99 in /home/andrey/.local/share/virtualenvs/ML-H-spring_semesester_project-nJO6SWcT/lib/python3.10/site-packages (from torch>=1.11.0->pytorch-lightning) (11.7.99)\r\n",
      "Requirement already satisfied: nvidia-cuda-cupti-cu11==11.7.101 in /home/andrey/.local/share/virtualenvs/ML-H-spring_semesester_project-nJO6SWcT/lib/python3.10/site-packages (from torch>=1.11.0->pytorch-lightning) (11.7.101)\r\n",
      "Requirement already satisfied: nvidia-cudnn-cu11==8.5.0.96 in /home/andrey/.local/share/virtualenvs/ML-H-spring_semesester_project-nJO6SWcT/lib/python3.10/site-packages (from torch>=1.11.0->pytorch-lightning) (8.5.0.96)\r\n",
      "Requirement already satisfied: nvidia-cublas-cu11==11.10.3.66 in /home/andrey/.local/share/virtualenvs/ML-H-spring_semesester_project-nJO6SWcT/lib/python3.10/site-packages (from torch>=1.11.0->pytorch-lightning) (11.10.3.66)\r\n",
      "Requirement already satisfied: nvidia-cufft-cu11==10.9.0.58 in /home/andrey/.local/share/virtualenvs/ML-H-spring_semesester_project-nJO6SWcT/lib/python3.10/site-packages (from torch>=1.11.0->pytorch-lightning) (10.9.0.58)\r\n",
      "Requirement already satisfied: nvidia-curand-cu11==10.2.10.91 in /home/andrey/.local/share/virtualenvs/ML-H-spring_semesester_project-nJO6SWcT/lib/python3.10/site-packages (from torch>=1.11.0->pytorch-lightning) (10.2.10.91)\r\n",
      "Requirement already satisfied: nvidia-cusolver-cu11==11.4.0.1 in /home/andrey/.local/share/virtualenvs/ML-H-spring_semesester_project-nJO6SWcT/lib/python3.10/site-packages (from torch>=1.11.0->pytorch-lightning) (11.4.0.1)\r\n",
      "Requirement already satisfied: nvidia-cusparse-cu11==11.7.4.91 in /home/andrey/.local/share/virtualenvs/ML-H-spring_semesester_project-nJO6SWcT/lib/python3.10/site-packages (from torch>=1.11.0->pytorch-lightning) (11.7.4.91)\r\n",
      "Requirement already satisfied: nvidia-nccl-cu11==2.14.3 in /home/andrey/.local/share/virtualenvs/ML-H-spring_semesester_project-nJO6SWcT/lib/python3.10/site-packages (from torch>=1.11.0->pytorch-lightning) (2.14.3)\r\n",
      "Requirement already satisfied: nvidia-nvtx-cu11==11.7.91 in /home/andrey/.local/share/virtualenvs/ML-H-spring_semesester_project-nJO6SWcT/lib/python3.10/site-packages (from torch>=1.11.0->pytorch-lightning) (11.7.91)\r\n",
      "Requirement already satisfied: triton==2.0.0 in /home/andrey/.local/share/virtualenvs/ML-H-spring_semesester_project-nJO6SWcT/lib/python3.10/site-packages (from torch>=1.11.0->pytorch-lightning) (2.0.0)\r\n",
      "Requirement already satisfied: setuptools in /home/andrey/.local/share/virtualenvs/ML-H-spring_semesester_project-nJO6SWcT/lib/python3.10/site-packages (from nvidia-cublas-cu11==11.10.3.66->torch>=1.11.0->pytorch-lightning) (68.0.0)\r\n",
      "Requirement already satisfied: wheel in /home/andrey/.local/share/virtualenvs/ML-H-spring_semesester_project-nJO6SWcT/lib/python3.10/site-packages (from nvidia-cublas-cu11==11.10.3.66->torch>=1.11.0->pytorch-lightning) (0.41.0)\r\n",
      "Requirement already satisfied: cmake in /home/andrey/.local/share/virtualenvs/ML-H-spring_semesester_project-nJO6SWcT/lib/python3.10/site-packages (from triton==2.0.0->torch>=1.11.0->pytorch-lightning) (3.27.0)\r\n",
      "Requirement already satisfied: lit in /home/andrey/.local/share/virtualenvs/ML-H-spring_semesester_project-nJO6SWcT/lib/python3.10/site-packages (from triton==2.0.0->torch>=1.11.0->pytorch-lightning) (16.0.6)\r\n",
      "Requirement already satisfied: attrs>=17.3.0 in /home/andrey/.local/share/virtualenvs/ML-H-spring_semesester_project-nJO6SWcT/lib/python3.10/site-packages (from aiohttp!=4.0.0a0,!=4.0.0a1->fsspec[http]>2021.06.0->pytorch-lightning) (23.1.0)\r\n",
      "Requirement already satisfied: charset-normalizer<4.0,>=2.0 in /home/andrey/.local/share/virtualenvs/ML-H-spring_semesester_project-nJO6SWcT/lib/python3.10/site-packages (from aiohttp!=4.0.0a0,!=4.0.0a1->fsspec[http]>2021.06.0->pytorch-lightning) (3.2.0)\r\n",
      "Requirement already satisfied: multidict<7.0,>=4.5 in /home/andrey/.local/share/virtualenvs/ML-H-spring_semesester_project-nJO6SWcT/lib/python3.10/site-packages (from aiohttp!=4.0.0a0,!=4.0.0a1->fsspec[http]>2021.06.0->pytorch-lightning) (6.0.4)\r\n",
      "Requirement already satisfied: async-timeout<5.0,>=4.0.0a3 in /home/andrey/.local/share/virtualenvs/ML-H-spring_semesester_project-nJO6SWcT/lib/python3.10/site-packages (from aiohttp!=4.0.0a0,!=4.0.0a1->fsspec[http]>2021.06.0->pytorch-lightning) (4.0.2)\r\n",
      "Requirement already satisfied: yarl<2.0,>=1.0 in /home/andrey/.local/share/virtualenvs/ML-H-spring_semesester_project-nJO6SWcT/lib/python3.10/site-packages (from aiohttp!=4.0.0a0,!=4.0.0a1->fsspec[http]>2021.06.0->pytorch-lightning) (1.9.2)\r\n",
      "Requirement already satisfied: frozenlist>=1.1.1 in /home/andrey/.local/share/virtualenvs/ML-H-spring_semesester_project-nJO6SWcT/lib/python3.10/site-packages (from aiohttp!=4.0.0a0,!=4.0.0a1->fsspec[http]>2021.06.0->pytorch-lightning) (1.4.0)\r\n",
      "Requirement already satisfied: aiosignal>=1.1.2 in /home/andrey/.local/share/virtualenvs/ML-H-spring_semesester_project-nJO6SWcT/lib/python3.10/site-packages (from aiohttp!=4.0.0a0,!=4.0.0a1->fsspec[http]>2021.06.0->pytorch-lightning) (1.3.1)\r\n",
      "Requirement already satisfied: MarkupSafe>=2.0 in /home/andrey/.local/share/virtualenvs/ML-H-spring_semesester_project-nJO6SWcT/lib/python3.10/site-packages (from jinja2->torch>=1.11.0->pytorch-lightning) (2.1.3)\r\n",
      "Requirement already satisfied: idna<4,>=2.5 in /home/andrey/.local/share/virtualenvs/ML-H-spring_semesester_project-nJO6SWcT/lib/python3.10/site-packages (from requests->fsspec[http]>2021.06.0->pytorch-lightning) (3.4)\r\n",
      "Requirement already satisfied: urllib3<3,>=1.21.1 in /home/andrey/.local/share/virtualenvs/ML-H-spring_semesester_project-nJO6SWcT/lib/python3.10/site-packages (from requests->fsspec[http]>2021.06.0->pytorch-lightning) (2.0.4)\r\n",
      "Requirement already satisfied: certifi>=2017.4.17 in /home/andrey/.local/share/virtualenvs/ML-H-spring_semesester_project-nJO6SWcT/lib/python3.10/site-packages (from requests->fsspec[http]>2021.06.0->pytorch-lightning) (2023.7.22)\r\n",
      "Requirement already satisfied: mpmath>=0.19 in /home/andrey/.local/share/virtualenvs/ML-H-spring_semesester_project-nJO6SWcT/lib/python3.10/site-packages (from sympy->torch>=1.11.0->pytorch-lightning) (1.3.0)\r\n"
     ]
    }
   ],
   "source": [
    "import gc\n",
    "import multiprocessing\n",
    "from typing import Tuple, Any\n",
    "!pip install pytorch-lightning"
   ],
   "metadata": {
    "collapsed": false,
    "pycharm": {
     "name": "#%%\n"
    },
    "ExecuteTime": {
     "end_time": "2023-08-04T15:11:27.878764943Z",
     "start_time": "2023-08-04T15:11:25.591050336Z"
    }
   }
  },
  {
   "cell_type": "code",
   "execution_count": 2,
   "metadata": {
    "collapsed": true,
    "pycharm": {
     "name": "#%%\n"
    },
    "ExecuteTime": {
     "end_time": "2023-08-04T15:11:31.795980459Z",
     "start_time": "2023-08-04T15:11:27.881519706Z"
    }
   },
   "outputs": [],
   "source": [
    "import numpy as np\n",
    "import pytorch_lightning as pl\n",
    "import torch\n",
    "import torch.nn as nn\n",
    "import torch.nn.functional as F\n",
    "import os\n",
    "import torchvision.transforms as transforms\n",
    "from torch.utils.data import DataLoader"
   ]
  },
  {
   "cell_type": "code",
   "execution_count": 3,
   "outputs": [],
   "source": [
    "from src.tools import *"
   ],
   "metadata": {
    "collapsed": false,
    "pycharm": {
     "name": "#%%\n"
    },
    "ExecuteTime": {
     "end_time": "2023-08-04T15:11:31.803284707Z",
     "start_time": "2023-08-04T15:11:31.797306123Z"
    }
   }
  },
  {
   "cell_type": "code",
   "execution_count": 4,
   "outputs": [],
   "source": [
    "torch.set_printoptions(precision=3, edgeitems=20, linewidth=250)\n",
    "torch.set_float32_matmul_precision('high')\n",
    "np.set_printoptions(precision=3, suppress=True, edgeitems=20, linewidth=250)\n",
    "INT_BITS = 32\n",
    "INT_MAX = (1 << (INT_BITS - 1)) - 1\n",
    "INT_MIN = -(1 << (INT_BITS - 1))"
   ],
   "metadata": {
    "collapsed": false,
    "ExecuteTime": {
     "end_time": "2023-08-04T15:11:31.810902125Z",
     "start_time": "2023-08-04T15:11:31.805383728Z"
    }
   }
  },
  {
   "cell_type": "code",
   "execution_count": 5,
   "outputs": [],
   "source": [
    "class SumNaturalBinModule(nn.Module):\n",
    "    def __init__(self, layer_sizes=(INT_BITS, 64, 64, INT_BITS), activation_fun=nn.ReLU()):\n",
    "        super().__init__()\n",
    "\n",
    "        self.run_counter = 0\n",
    "\n",
    "        layers_list = []\n",
    "        for i in range(len(layer_sizes) - 1):\n",
    "            layers_list.append(nn.Linear(layer_sizes[i], layer_sizes[i + 1]))\n",
    "            # if i != len(layer_sizes) - 2:\n",
    "            layers_list.append(activation_fun)\n",
    "\n",
    "        self.l1 = nn.Sequential(*layers_list)\n",
    "\n",
    "        for layer in self.l1:\n",
    "            if isinstance(layer, nn.Linear):\n",
    "                layer.weight = nn.Parameter(layer.weight.double())\n",
    "                layer.bias = nn.Parameter(layer.bias.double())\n",
    "\n",
    "    def forward(self, x):\n",
    "        self.run_counter += 1\n",
    "        return self.l1(x.double())\n",
    "\n",
    "\n",
    "class SumNaturalBinAutoEncoder(pl.LightningModule):\n",
    "    def __init__(self, encoder: SumNaturalBinModule, loss_function=F.mse_loss, lr=3 * 1e-3):\n",
    "        super().__init__()\n",
    "        self.encoder = encoder\n",
    "        self.loss_function = loss_function\n",
    "        self.lr = lr\n",
    "\n",
    "    def predict(self, x):\n",
    "        return self.encoder(x)\n",
    "\n",
    "    def training_step(self, batch, batch_idx):\n",
    "        x, y = batch\n",
    "        y_hat = self.encoder(x)\n",
    "        loss = self.loss_function(y_hat, y)\n",
    "        return loss\n",
    "\n",
    "    @staticmethod\n",
    "    def _get_accuracy(y_hat, y) -> tuple[float, float]:\n",
    "        eq = (y == torch.round(y_hat))\n",
    "        return eq.all(axis=1).double().mean(), eq.double().mean()\n",
    "\n",
    "    def test_step(self, batch, batch_idx):\n",
    "        x, y = batch\n",
    "        y_hat = self.encoder(x)\n",
    "        loss = self.loss_function(y_hat, y)\n",
    "        acc, bin_acc = self._get_accuracy(y_hat, y)\n",
    "        metrics = {\"test_acc\": acc, \"test_loss\": loss, \"test_bin_acc\": bin_acc}\n",
    "        self.log_dict(metrics)\n",
    "        return metrics\n",
    "\n",
    "    def configure_optimizers(self):\n",
    "        optimizer = torch.optim.Adam(self.parameters(), lr=2.5 * 1e-3)\n",
    "        return optimizer\n",
    "\n",
    "    def validation_step(self, batch, batch_idx):\n",
    "        x, y = batch\n",
    "        y_hat = self.encoder(x)\n",
    "        val_loss = self.loss_function(y_hat, y)\n",
    "        acc, bin_acc = self._get_accuracy(y_hat, y)\n",
    "        metrics = {\"test_acc\": acc, \"test_loss\": val_loss, \"test_bin_acc\": bin_acc}\n",
    "        self.log_dict(metrics)\n",
    "        return metrics\n",
    "\n",
    "        # Return the validation loss and any other metrics you computed\n",
    "        # return {'val_loss': val_loss, 'val_accuracy': accuracy}"
   ],
   "metadata": {
    "collapsed": false,
    "pycharm": {
     "name": "#%%\n"
    },
    "ExecuteTime": {
     "end_time": "2023-08-04T15:11:31.823124132Z",
     "start_time": "2023-08-04T15:11:31.817314914Z"
    }
   }
  },
  {
   "cell_type": "code",
   "execution_count": 6,
   "outputs": [],
   "source": [
    "from torch.utils.data import Dataset\n",
    "import torch\n",
    "import os\n",
    "from tqdm import tqdm\n",
    "import torch.random\n",
    "import numpy as np\n",
    "import pandas as pd"
   ],
   "metadata": {
    "collapsed": false,
    "pycharm": {
     "name": "#%%\n"
    },
    "ExecuteTime": {
     "end_time": "2023-08-04T15:11:32.240562635Z",
     "start_time": "2023-08-04T15:11:31.823030614Z"
    }
   }
  },
  {
   "cell_type": "code",
   "execution_count": 7,
   "outputs": [],
   "source": [
    "import warnings\n",
    "\n",
    "\n",
    "class SimpleRandomNaturalBinSumDataset(Dataset):\n",
    "    def __init__(self, size, transform=None, target_transform=None):\n",
    "        self.size = size\n",
    "        self.transform = transform\n",
    "        self.target_transform = target_transform\n",
    "        ints1 = np.random.randint(INT_MIN, INT_MAX, size=self.size, dtype=np.int32)\n",
    "        ints2 = np.random.randint(INT_MIN, INT_MAX, size=self.size, dtype=np.int32)\n",
    "\n",
    "        array1 = np.array([SimpleRandomNaturalBinSumDataset.decompose_to_bool_array(i) for i in tqdm(ints1)])\n",
    "        array2 = np.array([SimpleRandomNaturalBinSumDataset.decompose_to_bool_array(i) for i in tqdm(ints2)])\n",
    "        self.X = np.concatenate((array1.reshape((self.size, INT_BITS)),\n",
    "                                 array2.reshape((self.size, INT_BITS))), axis=1)\n",
    "\n",
    "        self.labels = np.array([SimpleRandomNaturalBinSumDataset.decompose_to_bool_array(i) for i in\n",
    "                                tqdm((ints1 + ints2) % (1 << INT_BITS) + INT_MIN)])\n",
    "\n",
    "    @staticmethod\n",
    "    def compose_from_bool_array(bool_array):\n",
    "        if not isinstance(bool_array, np.ndarray):\n",
    "            raise ValueError(\"bool_array should be a numpy ndarray.\")\n",
    "\n",
    "        if bool_array.shape != (INT_BITS,):\n",
    "            raise ValueError(\"bool_array should be a 1-dimensional array of size 32.\")\n",
    "\n",
    "        binary_str = \"\".join(str(int(bit)) for bit in bool_array)\n",
    "        first_bit = binary_str[0]\n",
    "        number_str = binary_str[1:]\n",
    "\n",
    "        if first_bit == '0':\n",
    "            return int(number_str, 2)\n",
    "        else:\n",
    "            return int(number_str, 2) + INT_MIN\n",
    "\n",
    "    @staticmethod\n",
    "    def decompose_to_bool_array(number):\n",
    "        if not isinstance(number, np.int32) and not isinstance(number, np.int64) and not isinstance(number, int):\n",
    "            raise ValueError(f\"Number should be an integer. Received {type(number)}\")\n",
    "\n",
    "        if number < 0:\n",
    "            return SimpleRandomNaturalBinSumDataset._decompose_positive_add_first_bit(number - INT_MIN, str(1))\n",
    "        else:\n",
    "            return SimpleRandomNaturalBinSumDataset._decompose_positive_add_first_bit(number, str(0))\n",
    "\n",
    "    @staticmethod\n",
    "    def _decompose_positive_add_first_bit(number, first_bit: str):\n",
    "        binary_str = first_bit + bin(number)[2:].zfill(31)\n",
    "        bool_array = np.array([int(bit) for bit in binary_str], dtype=np.float64)\n",
    "        return bool_array\n",
    "\n",
    "    def __len__(self):\n",
    "        return self.size\n",
    "\n",
    "    def __getitem__(self, idx):\n",
    "        if torch.is_tensor(idx):\n",
    "            idx = idx.tolist()\n",
    "\n",
    "        values, labels = self.X[idx], self.labels[idx]\n",
    "\n",
    "        if self.transform:\n",
    "            values = self.transform(values)\n",
    "        if self.target_transform:\n",
    "            labels = self.target_transform(labels)\n",
    "        return values, labels\n"
   ],
   "metadata": {
    "collapsed": false,
    "pycharm": {
     "name": "#%%\n"
    },
    "ExecuteTime": {
     "end_time": "2023-08-04T15:11:32.257001051Z",
     "start_time": "2023-08-04T15:11:32.245830929Z"
    }
   }
  },
  {
   "cell_type": "code",
   "execution_count": 8,
   "outputs": [],
   "source": [
    "class PyplineOfSunModule:\n",
    "    def __init__(self, model: SumNaturalBinAutoEncoder):\n",
    "        self.model = model\n",
    "\n",
    "    def predict(self, x: int, y: int):\n",
    "        expected = x + y\n",
    "        x_arr = SimpleRandomNaturalBinSumDataset.decompose_to_bool_array(x)\n",
    "        y_arr = SimpleRandomNaturalBinSumDataset.decompose_to_bool_array(y)\n",
    "        model_input = torch.tensor(np.concatenate((x_arr, y_arr)))\n",
    "        predictions = self.model.predict(model_input).detach().numpy().round()\n",
    "        print(f\"Prediction:\\t{predictions}\")\n",
    "        print(f\"Expected:\\t{SimpleRandomNaturalBinSumDataset.decompose_to_bool_array(expected)}\")\n",
    "        return SimpleRandomNaturalBinSumDataset.compose_from_bool_array(predictions)\n"
   ],
   "metadata": {
    "collapsed": false,
    "ExecuteTime": {
     "end_time": "2023-08-04T15:11:32.257518089Z",
     "start_time": "2023-08-04T15:11:32.253980889Z"
    }
   }
  },
  {
   "cell_type": "code",
   "execution_count": 9,
   "outputs": [],
   "source": [
    "# pypline_of_sum = PyplineOfSunModule(torch.load(f\"autoencoder-V03.pt\"))\n",
    "# pypline_of_sum.predict(np.int32(-3), np.int32(5))"
   ],
   "metadata": {
    "collapsed": false,
    "ExecuteTime": {
     "end_time": "2023-08-04T15:11:32.279709501Z",
     "start_time": "2023-08-04T15:11:32.261178140Z"
    }
   }
  },
  {
   "cell_type": "code",
   "execution_count": 10,
   "outputs": [],
   "source": [
    "# Parameters:\n",
    "activation_fun = nn.Sigmoid()\n",
    "# layer_sizes = [INT_BITS, 8, 8, 8, INT_BITS]\n",
    "# layer_sizes = [INT_BITS * 2, 512, 128, INT_BITS]\n",
    "# layer_sizes = [INT_BITS * 2, 128, INT_BITS]\n",
    "layer_sizes = [INT_BITS * 2, 128, 64, INT_BITS]\n",
    "# layer_sizes = [INT_BITS * 2, 128, INT_BITS]\n",
    "# layer_sizes = [1, 32, 32, 32, 1]"
   ],
   "metadata": {
    "collapsed": false,
    "pycharm": {
     "name": "#%%\n"
    },
    "ExecuteTime": {
     "end_time": "2023-08-04T15:11:32.280282412Z",
     "start_time": "2023-08-04T15:11:32.269003546Z"
    }
   }
  },
  {
   "cell_type": "code",
   "execution_count": 11,
   "outputs": [
    {
     "name": "stderr",
     "output_type": "stream",
     "text": [
      "100%|██████████| 1000000/1000000 [00:08<00:00, 122968.80it/s]\n",
      "100%|██████████| 1000000/1000000 [00:07<00:00, 128467.33it/s]\n",
      "100%|██████████| 1000000/1000000 [00:05<00:00, 185931.58it/s]\n",
      "100%|██████████| 100000/100000 [00:00<00:00, 126727.35it/s]\n",
      "100%|██████████| 100000/100000 [00:00<00:00, 127853.22it/s]\n",
      "100%|██████████| 100000/100000 [00:00<00:00, 181799.68it/s]\n"
     ]
    }
   ],
   "source": [
    "dataset = SimpleRandomNaturalBinSumDataset(1_000_000)\n",
    "train_loader = DataLoader(dataset, batch_size=10_000,\n",
    "                          num_workers=multiprocessing.cpu_count(),\n",
    "                          )\n",
    "valid_dataset = SimpleRandomNaturalBinSumDataset(100_000)\n",
    "valid_loader = DataLoader(valid_dataset, batch_size=5_000,\n",
    "                          num_workers=multiprocessing.cpu_count(),\n",
    "                          )"
   ],
   "metadata": {
    "collapsed": false,
    "pycharm": {
     "name": "#%%\n"
    },
    "ExecuteTime": {
     "end_time": "2023-08-04T15:11:57.380171556Z",
     "start_time": "2023-08-04T15:11:32.314904936Z"
    }
   }
  },
  {
   "cell_type": "code",
   "execution_count": 12,
   "outputs": [],
   "source": [
    "# model\n",
    "autoencoder = SumNaturalBinAutoEncoder(SumNaturalBinModule(layer_sizes, activation_fun), lr=0.01)"
   ],
   "metadata": {
    "collapsed": false,
    "ExecuteTime": {
     "end_time": "2023-08-04T15:11:57.423158799Z",
     "start_time": "2023-08-04T15:11:57.422818182Z"
    }
   }
  },
  {
   "cell_type": "code",
   "execution_count": 13,
   "outputs": [
    {
     "name": "stderr",
     "output_type": "stream",
     "text": [
      "100%|██████████| 500000/500000 [00:04<00:00, 124789.72it/s]\n",
      "100%|██████████| 500000/500000 [00:03<00:00, 130484.54it/s]\n",
      "100%|██████████| 500000/500000 [00:02<00:00, 185201.68it/s]\n"
     ]
    }
   ],
   "source": [
    "test_dataset = SimpleRandomNaturalBinSumDataset(500_000)\n",
    "test_loader = DataLoader(test_dataset, batch_size=1000, num_workers=multiprocessing.cpu_count())"
   ],
   "metadata": {
    "collapsed": false,
    "pycharm": {
     "name": "#%%\n"
    },
    "ExecuteTime": {
     "end_time": "2023-08-04T15:12:08.696972658Z",
     "start_time": "2023-08-04T15:11:57.423020513Z"
    }
   }
  },
  {
   "cell_type": "code",
   "execution_count": 14,
   "outputs": [
    {
     "name": "stderr",
     "output_type": "stream",
     "text": [
      "GPU available: True (cuda), used: True\n",
      "TPU available: False, using: 0 TPU cores\n",
      "IPU available: False, using: 0 IPUs\n",
      "HPU available: False, using: 0 HPUs\n",
      "/home/andrey/.local/share/virtualenvs/ML-H-spring_semesester_project-nJO6SWcT/lib/python3.10/site-packages/pytorch_lightning/trainer/connectors/logger_connector/logger_connector.py:67: UserWarning: Starting from v1.9.0, `tensorboardX` has been removed as a dependency of the `pytorch_lightning` package, due to potential conflicts with other packages in the ML ecosystem. For this reason, `logger=True` will use `CSVLogger` as the default logger, unless the `tensorboard` or `tensorboardX` packages are found. Please `pip install lightning[extra]` or one of them to enable TensorBoard support by default\n",
      "  warning_cache.warn(\n",
      "/home/andrey/.local/share/virtualenvs/ML-H-spring_semesester_project-nJO6SWcT/lib/python3.10/site-packages/pytorch_lightning/trainer/configuration_validator.py:70: PossibleUserWarning: You defined a `validation_step` but have no `val_dataloader`. Skipping val loop.\n",
      "  rank_zero_warn(\n",
      "LOCAL_RANK: 0 - CUDA_VISIBLE_DEVICES: [0]\n",
      "\n",
      "  | Name    | Type                | Params\n",
      "------------------------------------------------\n",
      "0 | encoder | SumNaturalBinModule | 18.7 K\n",
      "------------------------------------------------\n",
      "18.7 K    Trainable params\n",
      "0         Non-trainable params\n",
      "18.7 K    Total params\n",
      "0.075     Total estimated model params size (MB)\n"
     ]
    },
    {
     "data": {
      "text/plain": "Training: 0it [00:00, ?it/s]",
      "application/vnd.jupyter.widget-view+json": {
       "version_major": 2,
       "version_minor": 0,
       "model_id": "7b3ed2b00d874b73a7051567e711e5ae"
      }
     },
     "metadata": {},
     "output_type": "display_data"
    },
    {
     "name": "stderr",
     "output_type": "stream",
     "text": [
      "`Trainer.fit` stopped: `max_epochs=30` reached.\n",
      "LOCAL_RANK: 0 - CUDA_VISIBLE_DEVICES: [0]\n",
      "Traceback (most recent call last):\n",
      "  File \"/usr/lib/python3.10/multiprocessing/util.py\", line 300, in _run_finalizers\n",
      "    finalizer()\n",
      "  File \"/usr/lib/python3.10/multiprocessing/util.py\", line 224, in __call__\n",
      "    res = self._callback(*self._args, **self._kwargs)\n",
      "  File \"/usr/lib/python3.10/multiprocessing/util.py\", line 133, in _remove_temp_dir\n",
      "    rmtree(tempdir)\n",
      "  File \"/usr/lib/python3.10/shutil.py\", line 731, in rmtree\n",
      "    onerror(os.rmdir, path, sys.exc_info())\n",
      "  File \"/usr/lib/python3.10/shutil.py\", line 729, in rmtree\n",
      "    os.rmdir(path)\n",
      "OSError: [Errno 39] Directory not empty: '/tmp/pymp-eoganmys'\n"
     ]
    },
    {
     "data": {
      "text/plain": "Testing: 0it [00:00, ?it/s]",
      "application/vnd.jupyter.widget-view+json": {
       "version_major": 2,
       "version_minor": 0,
       "model_id": "7ecdb4d5e4c64043a7bcd6955d10fa02"
      }
     },
     "metadata": {},
     "output_type": "display_data"
    },
    {
     "name": "stdout",
     "output_type": "stream",
     "text": [
      "────────────────────────────────────────────────────────────────────────────────────────────────────────────────────────\n",
      "       Test metric             DataLoader 0\n",
      "────────────────────────────────────────────────────────────────────────────────────────────────────────────────────────\n",
      "        test_acc                    0.0\n",
      "      test_bin_acc             0.5604861875\n",
      "        test_loss            0.222206289884882\n",
      "────────────────────────────────────────────────────────────────────────────────────────────────────────────────────────\n"
     ]
    },
    {
     "data": {
      "text/plain": "[{'test_acc': 0.0,\n  'test_loss': 0.222206289884882,\n  'test_bin_acc': 0.5604861875}]"
     },
     "execution_count": 14,
     "metadata": {},
     "output_type": "execute_result"
    }
   ],
   "source": [
    "# train model\n",
    "trainer = pl.Trainer(max_epochs=30)\n",
    "\n",
    "trainer.fit(autoencoder, train_dataloaders=train_loader)\n",
    "trainer.test(autoencoder, test_loader)"
   ],
   "metadata": {
    "collapsed": false,
    "ExecuteTime": {
     "end_time": "2023-08-04T15:13:55.131916642Z",
     "start_time": "2023-08-04T15:12:08.742836746Z"
    }
   }
  },
  {
   "cell_type": "code",
   "execution_count": 15,
   "outputs": [
    {
     "name": "stderr",
     "output_type": "stream",
     "text": [
      "GPU available: True (cuda), used: True\n",
      "TPU available: False, using: 0 TPU cores\n",
      "IPU available: False, using: 0 IPUs\n",
      "HPU available: False, using: 0 HPUs\n",
      "LOCAL_RANK: 0 - CUDA_VISIBLE_DEVICES: [0]\n",
      "\n",
      "  | Name    | Type                | Params\n",
      "------------------------------------------------\n",
      "0 | encoder | SumNaturalBinModule | 18.7 K\n",
      "------------------------------------------------\n",
      "18.7 K    Trainable params\n",
      "0         Non-trainable params\n",
      "18.7 K    Total params\n",
      "0.075     Total estimated model params size (MB)\n"
     ]
    },
    {
     "data": {
      "text/plain": "Training: 0it [00:00, ?it/s]",
      "application/vnd.jupyter.widget-view+json": {
       "version_major": 2,
       "version_minor": 0,
       "model_id": "eaeecfd8193746d7a4fa9317fd3d916a"
      }
     },
     "metadata": {},
     "output_type": "display_data"
    },
    {
     "name": "stderr",
     "output_type": "stream",
     "text": [
      "`Trainer.fit` stopped: `max_epochs=10` reached.\n",
      "LOCAL_RANK: 0 - CUDA_VISIBLE_DEVICES: [0]\n"
     ]
    },
    {
     "data": {
      "text/plain": "Testing: 0it [00:00, ?it/s]",
      "application/vnd.jupyter.widget-view+json": {
       "version_major": 2,
       "version_minor": 0,
       "model_id": "992c901e6f7c479d860d2e030f0cbdbb"
      }
     },
     "metadata": {},
     "output_type": "display_data"
    },
    {
     "name": "stdout",
     "output_type": "stream",
     "text": [
      "────────────────────────────────────────────────────────────────────────────────────────────────────────────────────────\n",
      "       Test metric             DataLoader 0\n",
      "────────────────────────────────────────────────────────────────────────────────────────────────────────────────────────\n",
      "        test_acc                    0.0\n",
      "      test_bin_acc              0.56065675\n",
      "        test_loss           0.2208410979169993\n",
      "────────────────────────────────────────────────────────────────────────────────────────────────────────────────────────\n"
     ]
    },
    {
     "data": {
      "text/plain": "[{'test_acc': 0.0,\n  'test_loss': 0.2208410979169993,\n  'test_bin_acc': 0.56065675}]"
     },
     "execution_count": 15,
     "metadata": {},
     "output_type": "execute_result"
    }
   ],
   "source": [
    "autoencoder.lr = 0.0025\n",
    "# for i in range(5):\n",
    "# print(\"#\" * 40 + \" \" * 10 + f\"Iteration № {i:5}\" + \" \" * 10 + \"#\" * 40)\n",
    "trainer = pl.Trainer(max_epochs=10)\n",
    "trainer.fit(autoencoder, train_dataloaders=train_loader)\n",
    "trainer.test(autoencoder, test_loader)"
   ],
   "metadata": {
    "collapsed": false,
    "ExecuteTime": {
     "end_time": "2023-08-04T15:14:33.347653324Z",
     "start_time": "2023-08-04T15:13:55.130999552Z"
    }
   }
  },
  {
   "cell_type": "code",
   "execution_count": 16,
   "outputs": [
    {
     "data": {
      "text/plain": "SumNaturalBinModule(\n  (l1): Sequential(\n    (0): Linear(in_features=64, out_features=128, bias=True)\n    (1): Sigmoid()\n    (2): Linear(in_features=128, out_features=64, bias=True)\n    (3): Sigmoid()\n    (4): Linear(in_features=64, out_features=32, bias=True)\n    (5): Sigmoid()\n  )\n)"
     },
     "execution_count": 16,
     "metadata": {},
     "output_type": "execute_result"
    }
   ],
   "source": [
    "autoencoder.encoder"
   ],
   "metadata": {
    "collapsed": false,
    "ExecuteTime": {
     "end_time": "2023-08-04T15:14:33.348056520Z",
     "start_time": "2023-08-04T15:14:33.347000515Z"
    }
   }
  },
  {
   "cell_type": "code",
   "execution_count": 17,
   "outputs": [],
   "source": [
    "torch.save(autoencoder, f\"autoencoder-[128-64]-V05.pt\")"
   ],
   "metadata": {
    "collapsed": false,
    "ExecuteTime": {
     "end_time": "2023-08-04T15:14:33.348219670Z",
     "start_time": "2023-08-04T15:14:33.347113588Z"
    }
   }
  },
  {
   "cell_type": "code",
   "execution_count": 18,
   "outputs": [],
   "source": [
    "# x_rand = torch.tensor(np.random.randint(low=0, high=2, size=(1, INT_BITS)).astype(np.float64))\n",
    "# y_hat = autoencoder.predict(x_rand).round()\n",
    "# print(x_rand == y_hat)"
   ],
   "metadata": {
    "collapsed": false,
    "ExecuteTime": {
     "end_time": "2023-08-04T15:14:33.348377791Z",
     "start_time": "2023-08-04T15:14:33.347150395Z"
    }
   }
  },
  {
   "cell_type": "code",
   "execution_count": 19,
   "outputs": [],
   "source": [
    "# import plotly.express as px"
   ],
   "metadata": {
    "collapsed": false,
    "pycharm": {
     "name": "#%%\n"
    },
    "ExecuteTime": {
     "end_time": "2023-08-04T15:14:33.348524039Z",
     "start_time": "2023-08-04T15:14:33.347183779Z"
    }
   }
  },
  {
   "cell_type": "code",
   "execution_count": 20,
   "outputs": [],
   "source": [
    "# print(x[0].astype(int))\n",
    "# print(y[0])\n",
    "# print(y[0].round().astype(int))"
   ],
   "metadata": {
    "collapsed": false,
    "pycharm": {
     "name": "#%%\n"
    },
    "ExecuteTime": {
     "end_time": "2023-08-04T15:14:33.348701786Z",
     "start_time": "2023-08-04T15:14:33.347215767Z"
    }
   }
  },
  {
   "cell_type": "code",
   "execution_count": 21,
   "outputs": [],
   "source": [
    "# print(x_to_plot)\n",
    "# print(y_to_plot)"
   ],
   "metadata": {
    "collapsed": false,
    "pycharm": {
     "name": "#%%\n"
    },
    "ExecuteTime": {
     "end_time": "2023-08-04T15:14:33.349201852Z",
     "start_time": "2023-08-04T15:14:33.347271919Z"
    }
   }
  },
  {
   "cell_type": "code",
   "execution_count": 22,
   "outputs": [],
   "source": [
    "# fig = px.line(x=x_to_plot, y=y_to_plot)\n",
    "# fig.show()\n",
    "# \n",
    "# fig = px.line(x=x_to_plot, y=differ.sum(axis=1))\n",
    "# fig.show()"
   ],
   "metadata": {
    "collapsed": false,
    "pycharm": {
     "name": "#%%\n"
    },
    "ExecuteTime": {
     "end_time": "2023-08-04T15:14:33.350978692Z",
     "start_time": "2023-08-04T15:14:33.347308027Z"
    }
   }
  }
 ],
 "metadata": {
  "kernelspec": {
   "display_name": "Python 3",
   "language": "python",
   "name": "python3"
  },
  "language_info": {
   "codemirror_mode": {
    "name": "ipython",
    "version": 2
   },
   "file_extension": ".py",
   "mimetype": "text/x-python",
   "name": "python",
   "nbconvert_exporter": "python",
   "pygments_lexer": "ipython2",
   "version": "2.7.6"
  }
 },
 "nbformat": 4,
 "nbformat_minor": 0
}
